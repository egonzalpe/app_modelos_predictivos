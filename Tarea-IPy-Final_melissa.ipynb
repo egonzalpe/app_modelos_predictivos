{
 "cells": [
  {
   "cell_type": "markdown",
   "metadata": {},
   "source": [
    "Usando el archivo `datos.csv` resuelva las siguientes preguntas. Para los cálculos use el lenguage Python. El archivo contiene 10 variables independientes y una variable de salida. No todas las variables independientes son relevantes. La variable de salida indica la clase a la que pertenece cada uno de los ejemplos."
   ]
  },
  {
   "cell_type": "markdown",
   "metadata": {},
   "source": [
    "# Pregunta 1"
   ]
  },
  {
   "cell_type": "markdown",
   "metadata": {},
   "source": [
    "Si se usa un algoritmo de detección de grupos (como k-means), el algoritmo es capaz de detectar los grupos existentes y asignar correctamente los registros a cada grupo? Podría escogerse un subconjunto de variables independientes para mejorar la detección de grupos? argumente."
   ]
  },
  {
   "cell_type": "markdown",
   "metadata": {
    "collapsed": true
   },
   "source": [
    "**RESPUESTA** Un algoritmo de detección de grupos es capaz de detectar los grupos existentes y asignar con un algún grado de precisión los puntos a los grupos identificados. Uno de los argumentos de k-means es el número **k** de clústeres a extraer, por lo tanto este es un argumento que debemos definir. Se debería empezar a correr el algoritmo aumentando el número de clústeres hasta encontrar un óptimo que minimice el error sin aumentar dramáticamente el grado de complejidad."
   ]
  },
  {
   "cell_type": "code",
   "execution_count": 48,
   "metadata": {
    "collapsed": false
   },
   "outputs": [
    {
     "data": {
      "text/plain": [
       "<matplotlib.text.Text at 0x11a804fd0>"
      ]
     },
     "execution_count": 48,
     "metadata": {},
     "output_type": "execute_result"
    }
   ],
   "source": [
    "from sklearn.cluster import KMeans\n",
    "from sklearn import metrics \n",
    "from sklearn.cross_validation import train_test_split\n",
    "import numpy as np\n",
    "import pandas as pd\n",
    "import matplotlib.pyplot as plt\n",
    "from scipy.spatial.distance import cdist\n",
    "\n",
    "\n",
    "#leemos los datos\n",
    "data = pd.read_csv(\"datos.csv\")\n",
    "#separamos las variables de la clase\n",
    "datos=data.iloc[:,:-1]\n",
    "clase=data.iloc[:,-1]\n",
    "\n",
    "#parto los datos 80% - 20% para entrenamiento y test\n",
    "datos_train, datos_test, clase_train, clase_test = train_test_split(datos, clase, test_size=0.20, random_state=0)\n",
    "\n",
    "#definimos un rango de posibles k\n",
    "K = range(1,5)\n",
    "distmedias = []\n",
    "#corremos el método variando el numero de clusteres\n",
    "for k in K:\n",
    "    kmeans = KMeans(n_clusters=k)\n",
    "    kmeans.fit(datos)\n",
    "    distmedias.append(sum(np.min(cdist(datos, kmeans.cluster_centers_,\n",
    "                                       'euclidean'), axis=1)) / datos.shape[0])\n",
    "\n",
    "#graficamos las distancias medias con respecto al número de clusteres\n",
    "plt.plot(K, distmedias, 'bx-')\n",
    "plt.xlabel('k-means')\n",
    "plt.ylabel('Average distance')\n",
    "plt.title('K - means with elbow method')\n",
    "#plt.show()\n"
   ]
  },
  {
   "cell_type": "markdown",
   "metadata": {
    "collapsed": true
   },
   "source": [
    "De la gráfica vemos que el valor **k** óptimo es 3. Con este valor corremos k-means"
   ]
  },
  {
   "cell_type": "code",
   "execution_count": 49,
   "metadata": {
    "collapsed": true
   },
   "outputs": [],
   "source": [
    "#implementamos KMeans con el k óptimo que encontramos\n",
    "k=3\n",
    "kmeans = KMeans(n_clusters=k, n_init = 10,random_state=1)    \n",
    "kmeans.fit(datos_train) \n",
    "\n",
    "#extraemos los parametros del resultado de kmeans\n",
    "centroids = kmeans.cluster_centers_\n",
    "num_cluster_points = kmeans.labels_.tolist()\n",
    "labels = kmeans.labels_\n",
    "\n",
    "#clasificamos el conjunto de datos para test con el modelo de clasificación\n",
    "prediccion = kmeans.predict(datos_test)"
   ]
  },
  {
   "cell_type": "markdown",
   "metadata": {},
   "source": [
    "Para verificar si podemos seleccionar un subconjunto de variables para mejorar el clasificador aplicamos regresión logistica y verificamos los valores de significancia de las variables para saber si son o no relevantes."
   ]
  },
  {
   "cell_type": "markdown",
   "metadata": {},
   "source": [
    "# Pregunta 2"
   ]
  },
  {
   "cell_type": "markdown",
   "metadata": {},
   "source": [
    "Constuya un sistema clasificador que permita asignar un nuevo punto a una de las tres clases. El clasificador debe usar internamente la regresión logística. Es posible detectar las variables relevantes independientes usando regresión  logística? "
   ]
  },
  {
   "cell_type": "code",
   "execution_count": 11,
   "metadata": {
    "collapsed": false
   },
   "outputs": [
    {
     "name": "stdout",
     "output_type": "stream",
     "text": [
      "\n",
      "Coeficientes: [[-1.32295763  0.70045762  0.22627804 -0.37474506 -1.30659456  0.10751087\n",
      "   0.26519892  1.19998353  0.22899836 -2.2568424 ]\n",
      " [ 2.41972737 -0.41918752 -0.14496627  0.24720953 -1.46239424  0.21426543\n",
      "  -0.15185766 -0.90753359 -0.10885794  1.0197409 ]\n",
      " [-1.01330898 -0.12528911 -0.14365197  0.20739149  2.19578659 -0.39599421\n",
      "  -0.09366968 -0.6448183  -0.08149421  0.69281371]]\n",
      "\n",
      "Intercepto: [ 0.11919412 -0.08969159 -0.06435408]\n",
      "\n",
      "Reporte de clasificación:\n",
      "              precision    recall  f1-score   support\n",
      "\n",
      "          1       1.00      1.00      1.00        28\n",
      "          2       1.00      1.00      1.00        31\n",
      "          3       1.00      1.00      1.00        31\n",
      "\n",
      "avg / total       1.00      1.00      1.00        90\n",
      "\n",
      "Datos de la predicción   1   2   3\n",
      "Datos Reales                      \n",
      "1                       28   0   0\n",
      "2                        0  31   0\n",
      "3                        0   0  31\n",
      "\n",
      "Puntaje de precisión: 1.0\n"
     ]
    }
   ],
   "source": [
    "import numpy as np\n",
    "import pandas as pd\n",
    "from sklearn.linear_model import LogisticRegression\n",
    "from sklearn import metrics, cross_validation\n",
    "from sklearn.cross_validation import train_test_split\n",
    "\n",
    "data = pd.read_csv(\"datos.csv\")\n",
    "\n",
    "#leemos los datos\n",
    "data = pd.read_csv(\"datos.csv\")\n",
    "#separamos las variables de la clase\n",
    "datos=data.iloc[:,:-1]\n",
    "clase=data.iloc[:,-1]\n",
    "\n",
    "#Se dividen los datos en entrenamiento y pruebas\n",
    "datos_train, datos_test, clase_train, clase_test = train_test_split(datos, clase, test_size=0.20, random_state=0)\n",
    "\n",
    "#Aplicamos la regresion\n",
    "regresion = LogisticRegression()\n",
    "resultado = regresion.fit(X=datos_train,y=clase_train)\n",
    "\n",
    "#Imprimimos los resultados del ajuste\n",
    "print(\"\\nCoeficientes:\",resultado.coef_)\n",
    "print(\"\\nIntercepto:\",resultado.intercept_)\n",
    "\n",
    "\n",
    "#Predecimos las variables de prueba\n",
    "prediccion = resultado.predict(datos_test)\n",
    "\n",
    "#Comparamos los datos reales con los resultados de la predicción\n",
    "print(\"\\nReporte de clasificación:\\n\",metrics.classification_report(y_true=clase_test, y_pred=prediccion))\n",
    "print(pd.crosstab(clase_test, prediccion, rownames=['Datos Reales'], colnames=['Datos de la predicción']))\n",
    "print(\"\\nPuntaje de precisión:\",metrics.accuracy_score(clase_test, prediccion))   "
   ]
  },
  {
   "cell_type": "markdown",
   "metadata": {},
   "source": [
    "**Respuesta** Si es posible detectar variables relevantes independientes. Para esto es necesario encontrar los valores P de las variables."
   ]
  },
  {
   "cell_type": "code",
   "execution_count": null,
   "metadata": {
    "collapsed": false
   },
   "outputs": [],
   "source": [
    "#AQUI DEBE IR LOS VALORES P."
   ]
  },
  {
   "cell_type": "markdown",
   "metadata": {},
   "source": [
    "De esta forma el clasificador utilizaría la siguiente función:"
   ]
  },
  {
   "cell_type": "code",
   "execution_count": 12,
   "metadata": {
    "collapsed": true
   },
   "outputs": [],
   "source": [
    "def clasificar(punto):\n",
    "    claseAsignada = resultado.predict(punto);\n",
    "    return claseAsignada"
   ]
  },
  {
   "cell_type": "code",
   "execution_count": 30,
   "metadata": {
    "collapsed": false
   },
   "outputs": [
    {
     "name": "stdout",
     "output_type": "stream",
     "text": [
      "La clase a la que pertenece el punto es: Clase 1\n",
      "La clase a la que pertenece el punto es: Clase 3\n"
     ]
    },
    {
     "name": "stderr",
     "output_type": "stream",
     "text": [
      "//anaconda/lib/python3.5/site-packages/sklearn/utils/validation.py:386: DeprecationWarning: Passing 1d arrays as data is deprecated in 0.17 and willraise ValueError in 0.19. Reshape your data either using X.reshape(-1, 1) if your data has a single feature or X.reshape(1, -1) if it contains a single sample.\n",
      "  DeprecationWarning)\n",
      "//anaconda/lib/python3.5/site-packages/sklearn/utils/validation.py:386: DeprecationWarning: Passing 1d arrays as data is deprecated in 0.17 and willraise ValueError in 0.19. Reshape your data either using X.reshape(-1, 1) if your data has a single feature or X.reshape(1, -1) if it contains a single sample.\n",
      "  DeprecationWarning)\n"
     ]
    }
   ],
   "source": [
    "#probamos con un nuevo punto\n",
    "punto1 =[0.245344,1.873901,2.177668,-2.907616,0.539491,3.113836,1.327698,10.024680,1.394138,5.226368]\n",
    "punto2 =[0.187761,2.588326,2.004511,-2.985296,4.112142,2.986820,1.396137,10.067923,1.047435,8.682860]\n",
    "\n",
    "print(\"La clase a la que pertenece el punto es: Clase\", clasificar(punto1)[0])\n",
    "print(\"La clase a la que pertenece el punto es: Clase\", clasificar(punto2)[0])\n"
   ]
  },
  {
   "cell_type": "markdown",
   "metadata": {},
   "source": [
    "# Pregunta 3"
   ]
  },
  {
   "cell_type": "markdown",
   "metadata": {},
   "source": [
    "Construya un sistema clasificador usando la técnica de vecinos más próximos. Cómo podría modificar el algoritmo para detectar las variables más relevantes?"
   ]
  },
  {
   "cell_type": "code",
   "execution_count": 100,
   "metadata": {
    "collapsed": false
   },
   "outputs": [
    {
     "name": "stdout",
     "output_type": "stream",
     "text": [
      "Mean accuracy: 100.0%\n"
     ]
    }
   ],
   "source": [
    "from sklearn.neighbors import KNeighborsClassifier\n",
    "import pandas as pd\n",
    "from sklearn.cross_validation import train_test_split\n",
    "from sklearn.cross_validation import KFold\n",
    "from sklearn.pipeline import Pipeline\n",
    "from sklearn.preprocessing import StandardScaler\n",
    "import numpy as np\n",
    "\n",
    "\n",
    "#leemos los datos\n",
    "data = pd.read_csv(\"datos.csv\")\n",
    "\n",
    "#partimos los datos de las clases\n",
    "datos = data.iloc[:,:-1]\n",
    "clase = data.iloc[:,-1]\n",
    "\n",
    "#partimos los datos en train y test con 80% - 20%\n",
    "data_train, data_test, clase_train, clase_test = train_test_split(datos, clase, test_size=0.20, random_state=0)\n",
    "\n",
    "#definimos el clasificador con k=3 como en el ejercicio anterior y corremos el método\n",
    "kf = KFold(len(data), n_folds=3, shuffle=True)\n",
    "knn = KNeighborsClassifier(n_neighbors=3)\n",
    "knn = Pipeline([('norm', StandardScaler()),('knn', knn)])\n",
    "means =[]\n",
    "knn.fit(data_train, clase_train)\n",
    "\n",
    "#predecimos la clasificación para los datos de prueba\n",
    "predicción = knn.predict(data_test)\n",
    "\n",
    "#validamos la precisión del modelo\n",
    "curmean = np.mean(prediction == clase_test)\n",
    "means.append(curmean)\n",
    "print(\"Mean accuracy: {:.1%}\".format(np.mean(means)))\n"
   ]
  },
  {
   "cell_type": "code",
   "execution_count": 101,
   "metadata": {
    "collapsed": true
   },
   "outputs": [],
   "source": [
    "def clasificarknn(punto):\n",
    "    claseAsignada = knn.predict(punto)\n",
    "    return claseAsignada"
   ]
  },
  {
   "cell_type": "code",
   "execution_count": 103,
   "metadata": {
    "collapsed": false
   },
   "outputs": [
    {
     "name": "stdout",
     "output_type": "stream",
     "text": [
      "La clase a la que pertenece el punto es: Clase 1\n",
      "La clase a la que pertenece el punto es: Clase 3\n"
     ]
    },
    {
     "name": "stderr",
     "output_type": "stream",
     "text": [
      "//anaconda/lib/python3.5/site-packages/sklearn/preprocessing/data.py:646: DeprecationWarning: Passing 1d arrays as data is deprecated in 0.17 and will raise ValueError in 0.19. Reshape your data either using X.reshape(-1, 1) if your data has a single feature or X.reshape(1, -1) if it contains a single sample.\n",
      "  warnings.warn(DEPRECATION_MSG_1D, DeprecationWarning)\n",
      "//anaconda/lib/python3.5/site-packages/sklearn/utils/validation.py:386: DeprecationWarning: Passing 1d arrays as data is deprecated in 0.17 and willraise ValueError in 0.19. Reshape your data either using X.reshape(-1, 1) if your data has a single feature or X.reshape(1, -1) if it contains a single sample.\n",
      "  DeprecationWarning)\n",
      "//anaconda/lib/python3.5/site-packages/sklearn/preprocessing/data.py:646: DeprecationWarning: Passing 1d arrays as data is deprecated in 0.17 and will raise ValueError in 0.19. Reshape your data either using X.reshape(-1, 1) if your data has a single feature or X.reshape(1, -1) if it contains a single sample.\n",
      "  warnings.warn(DEPRECATION_MSG_1D, DeprecationWarning)\n",
      "//anaconda/lib/python3.5/site-packages/sklearn/utils/validation.py:386: DeprecationWarning: Passing 1d arrays as data is deprecated in 0.17 and willraise ValueError in 0.19. Reshape your data either using X.reshape(-1, 1) if your data has a single feature or X.reshape(1, -1) if it contains a single sample.\n",
      "  DeprecationWarning)\n"
     ]
    }
   ],
   "source": [
    "#probamos con un nuevo punto\n",
    "punto1 =[0.245344,1.873901,2.177668,-2.907616,0.539491,3.113836,1.327698,10.024680,1.394138,5.226368]\n",
    "punto2 =[0.187761,2.588326,2.004511,-2.985296,4.112142,2.986820,1.396137,10.067923,1.047435,8.682860]\n",
    "\n",
    "print(\"La clase a la que pertenece el punto es: Clase\", clasificarknn(punto1)[0])\n",
    "print(\"La clase a la que pertenece el punto es: Clase\", clasificarknn(punto2)[0])"
   ]
  },
  {
   "cell_type": "markdown",
   "metadata": {},
   "source": [
    "# Pregunta 4"
   ]
  },
  {
   "cell_type": "markdown",
   "metadata": {},
   "source": [
    "Construya un sistema clasificador usando árboles de decisión. Ya que los árboles permiten detectar variables relevantes, las variables seleccionadas en este punto coinciden con las obtenidas en las preguntas anteriores?"
   ]
  },
  {
   "cell_type": "code",
   "execution_count": 136,
   "metadata": {
    "collapsed": false
   },
   "outputs": [
    {
     "data": {
      "image/svg+xml": [
       "<?xml version=\"1.0\" encoding=\"UTF-8\" standalone=\"no\"?>\n",
       "<!DOCTYPE svg PUBLIC \"-//W3C//DTD SVG 1.1//EN\"\n",
       " \"http://www.w3.org/Graphics/SVG/1.1/DTD/svg11.dtd\">\n",
       "<!-- Generated by graphviz version 2.38.0 (20140413.2041)\n",
       " -->\n",
       "<!-- Title: Tree Pages: 1 -->\n",
       "<svg width=\"342pt\" height=\"258pt\"\n",
       " viewBox=\"0.00 0.00 341.54 258.00\" xmlns=\"http://www.w3.org/2000/svg\" xmlns:xlink=\"http://www.w3.org/1999/xlink\">\n",
       "<g id=\"graph0\" class=\"graph\" transform=\"scale(1 1) rotate(0) translate(4 254)\">\n",
       "<title>Tree</title>\n",
       "<polygon fill=\"white\" stroke=\"none\" points=\"-4,4 -4,-254 337.537,-254 337.537,4 -4,4\"/>\n",
       "<!-- 0 -->\n",
       "<g id=\"node1\" class=\"node\"><title>0</title>\n",
       "<polygon fill=\"none\" stroke=\"black\" points=\"274.306,-250 127.231,-250 127.231,-186 274.306,-186 274.306,-250\"/>\n",
       "<text text-anchor=\"middle\" x=\"200.769\" y=\"-234.8\" font-family=\"Times,serif\" font-size=\"14.00\">X[5] &lt;= 3.3921</text>\n",
       "<text text-anchor=\"middle\" x=\"200.769\" y=\"-220.8\" font-family=\"Times,serif\" font-size=\"14.00\">gini = 0.6667</text>\n",
       "<text text-anchor=\"middle\" x=\"200.769\" y=\"-206.8\" font-family=\"Times,serif\" font-size=\"14.00\">samples = 450</text>\n",
       "<text text-anchor=\"middle\" x=\"200.769\" y=\"-192.8\" font-family=\"Times,serif\" font-size=\"14.00\">value = [150, 150, 150]</text>\n",
       "</g>\n",
       "<!-- 1 -->\n",
       "<g id=\"node2\" class=\"node\"><title>1</title>\n",
       "<polygon fill=\"none\" stroke=\"black\" points=\"195.306,-150 62.2306,-150 62.2306,-86 195.306,-86 195.306,-150\"/>\n",
       "<text text-anchor=\"middle\" x=\"128.769\" y=\"-134.8\" font-family=\"Times,serif\" font-size=\"14.00\">X[9] &lt;= 6.387</text>\n",
       "<text text-anchor=\"middle\" x=\"128.769\" y=\"-120.8\" font-family=\"Times,serif\" font-size=\"14.00\">gini = 0.5</text>\n",
       "<text text-anchor=\"middle\" x=\"128.769\" y=\"-106.8\" font-family=\"Times,serif\" font-size=\"14.00\">samples = 300</text>\n",
       "<text text-anchor=\"middle\" x=\"128.769\" y=\"-92.8\" font-family=\"Times,serif\" font-size=\"14.00\">value = [150, 0, 150]</text>\n",
       "</g>\n",
       "<!-- 0&#45;&gt;1 -->\n",
       "<g id=\"edge1\" class=\"edge\"><title>0&#45;&gt;1</title>\n",
       "<path fill=\"none\" stroke=\"black\" d=\"M177.987,-185.992C171.553,-177.234 164.464,-167.585 157.718,-158.404\"/>\n",
       "<polygon fill=\"black\" stroke=\"black\" points=\"160.39,-156.129 151.649,-150.142 154.749,-160.274 160.39,-156.129\"/>\n",
       "<text text-anchor=\"middle\" x=\"147.869\" y=\"-170.655\" font-family=\"Times,serif\" font-size=\"14.00\">True</text>\n",
       "</g>\n",
       "<!-- 4 -->\n",
       "<g id=\"node5\" class=\"node\"><title>4</title>\n",
       "<polygon fill=\"none\" stroke=\"black\" points=\"333.307,-143 214.231,-143 214.231,-93 333.307,-93 333.307,-143\"/>\n",
       "<text text-anchor=\"middle\" x=\"273.769\" y=\"-127.8\" font-family=\"Times,serif\" font-size=\"14.00\">gini = 0.0</text>\n",
       "<text text-anchor=\"middle\" x=\"273.769\" y=\"-113.8\" font-family=\"Times,serif\" font-size=\"14.00\">samples = 150</text>\n",
       "<text text-anchor=\"middle\" x=\"273.769\" y=\"-99.8\" font-family=\"Times,serif\" font-size=\"14.00\">value = [0, 150, 0]</text>\n",
       "</g>\n",
       "<!-- 0&#45;&gt;4 -->\n",
       "<g id=\"edge4\" class=\"edge\"><title>0&#45;&gt;4</title>\n",
       "<path fill=\"none\" stroke=\"black\" d=\"M223.866,-185.992C232.055,-175 241.288,-162.604 249.566,-151.491\"/>\n",
       "<polygon fill=\"black\" stroke=\"black\" points=\"252.51,-153.398 255.677,-143.288 246.896,-149.216 252.51,-153.398\"/>\n",
       "<text text-anchor=\"middle\" x=\"259.293\" y=\"-163.825\" font-family=\"Times,serif\" font-size=\"14.00\">False</text>\n",
       "</g>\n",
       "<!-- 2 -->\n",
       "<g id=\"node3\" class=\"node\"><title>2</title>\n",
       "<polygon fill=\"none\" stroke=\"black\" points=\"119.307,-50 0.230553,-50 0.230553,-0 119.307,-0 119.307,-50\"/>\n",
       "<text text-anchor=\"middle\" x=\"59.7686\" y=\"-34.8\" font-family=\"Times,serif\" font-size=\"14.00\">gini = 0.0</text>\n",
       "<text text-anchor=\"middle\" x=\"59.7686\" y=\"-20.8\" font-family=\"Times,serif\" font-size=\"14.00\">samples = 150</text>\n",
       "<text text-anchor=\"middle\" x=\"59.7686\" y=\"-6.8\" font-family=\"Times,serif\" font-size=\"14.00\">value = [150, 0, 0]</text>\n",
       "</g>\n",
       "<!-- 1&#45;&gt;2 -->\n",
       "<g id=\"edge2\" class=\"edge\"><title>1&#45;&gt;2</title>\n",
       "<path fill=\"none\" stroke=\"black\" d=\"M105.216,-85.9375C98.4006,-76.9496 90.9498,-67.1231 84.089,-58.0747\"/>\n",
       "<polygon fill=\"black\" stroke=\"black\" points=\"86.8201,-55.8838 77.9892,-50.0301 81.2422,-60.1132 86.8201,-55.8838\"/>\n",
       "</g>\n",
       "<!-- 3 -->\n",
       "<g id=\"node4\" class=\"node\"><title>3</title>\n",
       "<polygon fill=\"none\" stroke=\"black\" points=\"257.307,-50 138.231,-50 138.231,-0 257.307,-0 257.307,-50\"/>\n",
       "<text text-anchor=\"middle\" x=\"197.769\" y=\"-34.8\" font-family=\"Times,serif\" font-size=\"14.00\">gini = 0.0</text>\n",
       "<text text-anchor=\"middle\" x=\"197.769\" y=\"-20.8\" font-family=\"Times,serif\" font-size=\"14.00\">samples = 150</text>\n",
       "<text text-anchor=\"middle\" x=\"197.769\" y=\"-6.8\" font-family=\"Times,serif\" font-size=\"14.00\">value = [0, 0, 150]</text>\n",
       "</g>\n",
       "<!-- 1&#45;&gt;3 -->\n",
       "<g id=\"edge3\" class=\"edge\"><title>1&#45;&gt;3</title>\n",
       "<path fill=\"none\" stroke=\"black\" d=\"M152.321,-85.9375C159.136,-76.9496 166.587,-67.1231 173.448,-58.0747\"/>\n",
       "<polygon fill=\"black\" stroke=\"black\" points=\"176.295,-60.1132 179.548,-50.0301 170.717,-55.8838 176.295,-60.1132\"/>\n",
       "</g>\n",
       "</g>\n",
       "</svg>\n"
      ],
      "text/plain": [
       "<graphviz.files.Source at 0x11aa188d0>"
      ]
     },
     "execution_count": 136,
     "metadata": {},
     "output_type": "execute_result"
    }
   ],
   "source": [
    "from sklearn import tree\n",
    "import numpy as np\n",
    "from IPython.display import Image  \n",
    "import pandas\n",
    "import os\n",
    "from sklearn.tree import export_graphviz\n",
    "import graphviz\n",
    "\n",
    "\n",
    "#leemos los datos\n",
    "data = pd.read_csv(\"datos.csv\")\n",
    "\n",
    "#partimos los datos de las clases\n",
    "datos = data.iloc[:,:-1]\n",
    "clase = data.iloc[:,-1]\n",
    "\n",
    "#definimos el arbol y corremos el modelo\n",
    "arbol = tree.DecisionTreeClassifier()\n",
    "arbol = arbol.fit(datos, clase)\n",
    "\n",
    "\n",
    "export_graphviz(arbol, out_file=\"tree.dot\")\n",
    "with open(\"tree.dot\") as f:\n",
    "    dot_graph = f.read()\n",
    "graphviz.Source(dot_graph)"
   ]
  },
  {
   "cell_type": "code",
   "execution_count": 137,
   "metadata": {
    "collapsed": true
   },
   "outputs": [],
   "source": [
    "def clasificarTree(punto):\n",
    "    clasificacion = arbol.predict(punto)\n",
    "    return clasificacion"
   ]
  },
  {
   "cell_type": "code",
   "execution_count": 138,
   "metadata": {
    "collapsed": false
   },
   "outputs": [
    {
     "name": "stdout",
     "output_type": "stream",
     "text": [
      "La clase a la que pertenece el punto es: Clase 1\n",
      "La clase a la que pertenece el punto es: Clase 3\n"
     ]
    },
    {
     "name": "stderr",
     "output_type": "stream",
     "text": [
      "//anaconda/lib/python3.5/site-packages/sklearn/utils/validation.py:386: DeprecationWarning: Passing 1d arrays as data is deprecated in 0.17 and willraise ValueError in 0.19. Reshape your data either using X.reshape(-1, 1) if your data has a single feature or X.reshape(1, -1) if it contains a single sample.\n",
      "  DeprecationWarning)\n",
      "//anaconda/lib/python3.5/site-packages/sklearn/utils/validation.py:386: DeprecationWarning: Passing 1d arrays as data is deprecated in 0.17 and willraise ValueError in 0.19. Reshape your data either using X.reshape(-1, 1) if your data has a single feature or X.reshape(1, -1) if it contains a single sample.\n",
      "  DeprecationWarning)\n"
     ]
    }
   ],
   "source": [
    "#probamos con un nuevo punto\n",
    "punto1 =[0.245344,1.873901,2.177668,-2.907616,0.539491,3.113836,1.327698,10.024680,1.394138,5.226368]\n",
    "punto2 =[0.187761,2.588326,2.004511,-2.985296,4.112142,2.986820,1.396137,10.067923,1.047435,8.682860]\n",
    "\n",
    "print(\"La clase a la que pertenece el punto es: Clase\", clasificarTree(punto1)[0])\n",
    "print(\"La clase a la que pertenece el punto es: Clase\", clasificarTree(punto2)[0])"
   ]
  }
 ],
 "metadata": {
  "kernelspec": {
   "display_name": "Python [Root]",
   "language": "python",
   "name": "Python [Root]"
  },
  "language_info": {
   "codemirror_mode": {
    "name": "ipython",
    "version": 3
   },
   "file_extension": ".py",
   "mimetype": "text/x-python",
   "name": "python",
   "nbconvert_exporter": "python",
   "pygments_lexer": "ipython3",
   "version": "3.5.2"
  }
 },
 "nbformat": 4,
 "nbformat_minor": 2
}
