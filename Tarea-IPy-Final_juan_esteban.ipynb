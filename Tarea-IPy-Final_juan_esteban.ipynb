{
 "cells": [
  {
   "cell_type": "markdown",
   "metadata": {},
   "source": [
    "Usando el archivo `datos.csv` resuelva las siguientes preguntas. Para los cálculos use el lenguage Python. El archivo contiene 10 variables independientes y una variable de salida. No todas las variables independientes son relevantes. La variable de salida indica la clase a la que pertenece cada uno de los ejemplos."
   ]
  },
  {
   "cell_type": "markdown",
   "metadata": {},
   "source": [
    "# Pregunta 1"
   ]
  },
  {
   "cell_type": "markdown",
   "metadata": {},
   "source": [
    "Si se usa un algoritmo de detección de grupos (como k-means), el algoritmo es capaz de detectar los grupos existentes y asignar correctamente los registros a cada grupo? Podría escogerse un subconjunto de variables independientes para mejorar la detección de grupos? argumente."
   ]
  },
  {
   "cell_type": "code",
   "execution_count": 110,
   "metadata": {
    "collapsed": false
   },
   "outputs": [
    {
     "data": {
      "image/png": "[encoded data removed]",
      "text/plain": [
       "<matplotlib.figure.Figure at 0xc887cf8>"
      ]
     },
     "metadata": {},
     "output_type": "display_data"
    }
   ],
   "source": [
    "from sklearn import cluster\n",
    "import numpy as np\n",
    "import pandas as pd\n",
    "from matplotlib import pyplot\n",
    "%matplotlib inline\n",
    "\n",
    "\n",
    "#Se leen los datos\n",
    "data=pd.read_table('datos.csv',\n",
    "                   sep = ',',\n",
    "                   decimal = '.',\n",
    "                   thousands = None,\n",
    "                   header=0\n",
    "                  )\n",
    "#Se define como matriz\n",
    "data = data.as_matrix()\n",
    "data = np.matrix(data)\n",
    "\n",
    "\n",
    "\n",
    "k = 3                                    #Cantidad de Centroides (Clusters)\n",
    "kmeans = cluster.KMeans(n_clusters=k)    #Definición del modelo\n",
    "kmeans.fit(data[:,:-1])                  #Ejecución del modelo\n",
    "\n",
    "\n",
    "labels = kmeans.labels_\n",
    "centroids = kmeans.cluster_centers_\n",
    "\n",
    "\n",
    "\n",
    "\n",
    "for i in range(k):\n",
    "    # Selecciona las observaciones con el clustar i \n",
    "    ds = data[np.where(labels==i)]\n",
    "    # plot de las observaciones\n",
    "    pyplot.plot(ds[:,0],ds[:,1],'o')\n",
    "    # plot del centroide\n",
    "    lines = pyplot.plot(centroids[i,0],centroids[i,1],'kx')\n",
    "    # Configurar formato de Centroides\n",
    "    pyplot.setp(lines,ms=15.0)\n",
    "    pyplot.setp(lines,mew=5.0)\n",
    "    pyplot.setp(lines,color='y')\n",
    "pyplot.show()\n",
    "\n",
    "# http://fromdatawithlove.thegovans.us/2013/05/clustering-using-scikit-learn.html"
   ]
  },
  {
   "cell_type": "markdown",
   "metadata": {},
   "source": [
    "# Pregunta 2"
   ]
  },
  {
   "cell_type": "markdown",
   "metadata": {},
   "source": [
    "Constuya un sistema clasificador que permita asignar un nuevo punto a una de las tres clases. El clasificador debe usar internamente la regresión logística. Es posible detectar las variables relevantes independientes usando regresión  logística? "
   ]
  },
  {
   "cell_type": "code",
   "execution_count": 31,
   "metadata": {
    "collapsed": false
   },
   "outputs": [
    {
     "name": "stdout",
     "output_type": "stream",
     "text": [
      "             precision    recall  f1-score   support\n",
      "\n",
      "        1.0       1.00      1.00      1.00        38\n",
      "        2.0       1.00      1.00      1.00        46\n",
      "        3.0       1.00      1.00      1.00        40\n",
      "\n",
      "avg / total       1.00      1.00      1.00       124\n",
      "\n",
      "PREDICCION  1.0  2.0  3.0\n",
      "REAL                     \n",
      "1.0          38    0    0\n",
      "2.0           0   46    0\n",
      "3.0           0    0   40\n"
     ]
    }
   ],
   "source": [
    "import numpy as np\n",
    "from sklearn.linear_model import LogisticRegression\n",
    "from sklearn import metrics\n",
    "import pandas as pd\n",
    "\n",
    "#Se leen los datos\n",
    "data=pd.read_table('datos.csv',\n",
    "                   sep = ',',\n",
    "                   decimal = '.',\n",
    "                   thousands = None,\n",
    "                   header=0\n",
    "                  )\n",
    "\n",
    "# Se convierte a matriz\n",
    "data = data.as_matrix()\n",
    "data = np.matrix(data)\n",
    "\n",
    "data\n",
    "\n",
    "#Se define la semilla\n",
    "np.random.seed(123)\n",
    "\n",
    "#Se crea el conjunto de entrenamiento y prueba  70% y 30%\n",
    "m_train    = np.random.rand(len(data)) < 0.7\n",
    "data_train = data[m_train,]\n",
    "data_test  = data[~m_train,]\n",
    "\n",
    "#Se definen las clases de entrenamiento y prueba\n",
    "clase_train = data_train[:,-1]\n",
    "\n",
    "clase_train = clase_train.A1 #convierte de matriz a vector \n",
    "clase_test  = data_test[:,-1]\n",
    "clase_test  = clase_test.A1 #convierte de matriz a vector \n",
    "\n",
    "#ENTRENAMIENTO\n",
    "modelo_lr = LogisticRegression()\n",
    "modelo_lr.fit(X=data_train[:,:-1],y=clase_train)\n",
    "\n",
    "\n",
    "# PREDICCION\n",
    "predicion = modelo_lr.predict(data_test[:,:-1])\n",
    "\n",
    "\n",
    "# METRICAS\n",
    "print(metrics.classification_report(y_true=clase_test, y_pred=predicion))\n",
    "print(pd.crosstab(data_test[:,-1].A1, predicion, rownames=['REAL'], colnames=['PREDICCION']))\n"
   ]
  },
  {
   "cell_type": "markdown",
   "metadata": {},
   "source": [
    "# Pregunta 3"
   ]
  },
  {
   "cell_type": "markdown",
   "metadata": {},
   "source": [
    "Construya un sistema clasificador usando la técnica de vecinos más próximos. Cómo podría modificar el algoritmo para detectar las variables más relevantes?"
   ]
  },
  {
   "cell_type": "code",
   "execution_count": 20,
   "metadata": {
    "collapsed": false
   },
   "outputs": [
    {
     "name": "stdout",
     "output_type": "stream",
     "text": [
      "Error Cuadrático:  0.0\n"
     ]
    }
   ],
   "source": [
    "\n",
    "#Importación de librerias\n",
    "import random\n",
    "import numpy as np\n",
    "import pandas as pd\n",
    "from sklearn.cross_validation import train_test_split\n",
    "from sklearn.neighbors import KNeighborsClassifier\n",
    "\n",
    "\n",
    "#Se leen los datos\n",
    "data=pd.read_table('datos.csv',\n",
    "                   sep = ',',\n",
    "                   decimal = '.',\n",
    "                   thousands = None,\n",
    "                   header=0\n",
    "                  )\n",
    "\n",
    "# Se convierte a Matriz\n",
    "data = data.as_matrix()\n",
    "data = np.matrix(data)\n",
    "\n",
    "# Se define la semilla\n",
    "np.random.seed(123)\n",
    "\n",
    "# Se dividen los conjuntos de Prueba y Entrenamiento 30% y 70%\n",
    "m_train    = np.random.rand(len(data)) < 0.7\n",
    "data_train = data[m_train,]\n",
    "data_test  = data[~m_train,]\n",
    "\n",
    "\n",
    "\n",
    "##other  https://kevinzakka.github.io/2016/07/13/k-nearest-neighbor/\n",
    "##       https://www.dataquest.io/blog/k-nearest-neighbors-in-python/\n",
    "\n",
    "\n",
    "\n",
    "\n",
    "# Se cargan los datos\n",
    "df = pd.read_csv('datos.csv', header=0)\n",
    "df.head()\n",
    "df.ix[:, 0:10]\n",
    "\n",
    "\n",
    "# Se crean la matrix con las variables\n",
    "X = np.array(df.ix[:, 0:10]) \n",
    "#Se crea arreglo con la clase a la cual pertenese\n",
    "y = np.array(df['class']) \n",
    "\n",
    "# se definien los conjuntos de Prueba y Entrenamiento tanto para las variables como para las calses 33% y 67%\n",
    "X_train, X_test, y_train, y_test = train_test_split(X, y, test_size=0.33, random_state=42)\n",
    "    \n",
    "\n",
    "# Se instancia el modelo para validarlo 3 vecinos\n",
    "knn = KNeighborsClassifier(n_neighbors=3)\n",
    "\n",
    "# Se realiza el entrenamiento del modelo con las variables y clases de prueba\n",
    "knn.fit(X_train, y_train)\n",
    "\n",
    "# Se realiza la predición con el conjutno de prueba\n",
    "pred = knn.predict(X_test)\n",
    "\n",
    "# Se evalua el error cuadratico\n",
    "mse = (((pred - y_test) ** 2).sum()) / len(pred)\n",
    "print ('Error Cuadrático: ', mse)\n",
    "\n",
    "# Medida de exactitud de modelo\n",
    "#accuracy=accuracy_score(y_test, pred)    #The best performance is 1 \n",
    "#print ('Medida de exactitud de modelo: ', accuracy)"
   ]
  },
  {
   "cell_type": "markdown",
   "metadata": {},
   "source": [
    "# Pregunta 4"
   ]
  },
  {
   "cell_type": "markdown",
   "metadata": {},
   "source": [
    "Construya un sistema clasificador usando árboles de decisión. Ya que los árboles permiten detectar variables relevantes, las variables seleccionadas en este punto coinciden con las obtenidas en las preguntas anteriores?"
   ]
  },
  {
   "cell_type": "code",
   "execution_count": 127,
   "metadata": {
    "collapsed": false
   },
   "outputs": [
    {
     "data": {
      "text/plain": [
       "DecisionTreeClassifier(class_weight=None, criterion='gini', max_depth=None,\n",
       "            max_features=None, max_leaf_nodes=None, min_samples_leaf=1,\n",
       "            min_samples_split=2, min_weight_fraction_leaf=0.0,\n",
       "            presort=False, random_state=None, splitter='best')"
      ]
     },
     "execution_count": 127,
     "metadata": {},
     "output_type": "execute_result"
    }
   ],
   "source": [
    "from sklearn import tree\n",
    "import numpy as np\n",
    "import pandas\n",
    "\n",
    "data    = pandas.read_csv('datos.csv',  # el archivo\n",
    "                    sep = ',',         # separador de campos\n",
    "                    thousands = None,  # separador de miles para números\n",
    "                    decimal = '.')     # separador de los decimales para números\n",
    "data = data.as_matrix()\n",
    "data = np.matrix(data)\n",
    "\n",
    "clf = tree.DecisionTreeClassifier()\n",
    "clf = clf.fit(data[:,:-1], data[:,-1])\n",
    "clf\n"
   ]
  },
  {
   "cell_type": "markdown",
   "metadata": {},
   "source": [
    "---"
   ]
  }
 ],
 "metadata": {
  "anaconda-cloud": {},
  "kernelspec": {
   "display_name": "Python [Root]",
   "language": "python",
   "name": "Python [Root]"
  },
  "language_info": {
   "codemirror_mode": {
    "name": "ipython",
    "version": 3
   },
   "file_extension": ".py",
   "mimetype": "text/x-python",
   "name": "python",
   "nbconvert_exporter": "python",
   "pygments_lexer": "ipython3",
   "version": "3.5.2"
  }
 },
 "nbformat": 4,
 "nbformat_minor": 2
}
